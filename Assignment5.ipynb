{
 "cells": [
  {
   "cell_type": "markdown",
   "metadata": {},
   "source": [
    "# Write a Python Program to Find LCM?"
   ]
  },
  {
   "cell_type": "code",
   "execution_count": 1,
   "metadata": {},
   "outputs": [
    {
     "name": "stdout",
     "output_type": "stream",
     "text": [
      "The LCM of 15 and 20 is 60.\n"
     ]
    }
   ],
   "source": [
    "def gcd(a, b):\n",
    "    while b != 0:\n",
    "        a, b = b, a % b\n",
    "    return a\n",
    "\n",
    "def lcm(a, b):\n",
    "    return abs(a * b) // gcd(a, b)\n",
    "\n",
    "num1 = 15\n",
    "num2 = 20\n",
    "# Calculate and display the LCM\n",
    "lcm_result = lcm(num1, num2)\n",
    "print(f\"The LCM of {num1} and {num2} is {lcm_result}.\")\n"
   ]
  },
  {
   "cell_type": "markdown",
   "metadata": {},
   "source": [
    "# Write a Python Program to Find HCF?"
   ]
  },
  {
   "cell_type": "code",
   "execution_count": 2,
   "metadata": {},
   "outputs": [
    {
     "name": "stdout",
     "output_type": "stream",
     "text": [
      "The HCF/GCD of 15 and 20 is 5.\n"
     ]
    }
   ],
   "source": [
    "def gcd(a, b):\n",
    "    while b != 0:\n",
    "        a, b = b, a % b\n",
    "    return a\n",
    "\n",
    "\n",
    "num1 = 15\n",
    "num2 = 20\n",
    "\n",
    "# Calculate and display the HCF/GCD\n",
    "hcf_result = gcd(num1, num2)\n",
    "print(f\"The HCF/GCD of {num1} and {num2} is {hcf_result}.\")\n"
   ]
  },
  {
   "cell_type": "markdown",
   "metadata": {},
   "source": [
    "# Write a Python Program to Convert Decimal to Binary, Octal and Hexadecimal?"
   ]
  },
  {
   "cell_type": "code",
   "execution_count": 5,
   "metadata": {},
   "outputs": [
    {
     "name": "stdout",
     "output_type": "stream",
     "text": [
      "Binary representation: 1010\n",
      "Octal representation: 12\n",
      "Hexadecimal representation: a\n"
     ]
    }
   ],
   "source": [
    "def decimal_to_binary(num):\n",
    "    return bin(num)[2:]\n",
    "\n",
    "def decimal_to_octal(num):\n",
    "    return oct(num)[2:]\n",
    "\n",
    "def decimal_to_hexadecimal(num):\n",
    "    return hex(num)[2:]\n",
    "\n",
    "\n",
    "decimal_num = 10\n",
    "\n",
    "# Convert and display the binary, octal, and hexadecimal representations\n",
    "binary_num = decimal_to_binary(decimal_num)\n",
    "octal_num = decimal_to_octal(decimal_num)\n",
    "hexadecimal_num = decimal_to_hexadecimal(decimal_num)\n",
    "\n",
    "print(f\"Binary representation: {binary_num}\")\n",
    "print(f\"Octal representation: {octal_num}\")\n",
    "print(f\"Hexadecimal representation: {hexadecimal_num}\")\n"
   ]
  },
  {
   "cell_type": "markdown",
   "metadata": {},
   "source": [
    "# Write a Python Program To Find ASCII value of a character?"
   ]
  },
  {
   "cell_type": "code",
   "execution_count": 7,
   "metadata": {},
   "outputs": [
    {
     "name": "stdout",
     "output_type": "stream",
     "text": [
      "The ASCII value of 'K' is 75.\n"
     ]
    }
   ],
   "source": [
    "def find_ascii_value(char):\n",
    "    return ord(char)\n",
    "\n",
    "\n",
    "character = \"K\"\n",
    "\n",
    "# Check if the input is a single character\n",
    "if len(character) != 1:\n",
    "    print(\"Please enter a single character.\")\n",
    "else:\n",
    "    # Call the find_ascii_value function\n",
    "    ascii_value = find_ascii_value(character)\n",
    "    print(f\"The ASCII value of '{character}' is {ascii_value}.\")\n"
   ]
  },
  {
   "cell_type": "markdown",
   "metadata": {},
   "source": [
    "# Write a Python Program to Make a Simple Calculator with 4 basic mathematical operations?"
   ]
  },
  {
   "cell_type": "code",
   "execution_count": 1,
   "metadata": {},
   "outputs": [
    {
     "name": "stdout",
     "output_type": "stream",
     "text": [
      "Addition: 10 + 5 = 15\n",
      "Subtraction: 10 - 5 = 5\n",
      "Multiplication: 10 * 5 = 50\n",
      "Division: 10 / 5 = 2.0\n"
     ]
    }
   ],
   "source": [
    "def add(x, y):\n",
    "    return x + y\n",
    "\n",
    "def subtract(x, y):\n",
    "    return x - y\n",
    "\n",
    "def multiply(x, y):\n",
    "    return x * y\n",
    "\n",
    "def divide(x, y):\n",
    "    if y != 0:\n",
    "        return x / y\n",
    "    else:\n",
    "        return \"Error: Cannot divide by zero.\"\n",
    "\n",
    "# Predefined numbers\n",
    "num1 = 10\n",
    "num2 = 5\n",
    "\n",
    "# Perform the operations and display the results\n",
    "result_add = add(num1, num2)\n",
    "result_subtract = subtract(num1, num2)\n",
    "result_multiply = multiply(num1, num2)\n",
    "result_divide = divide(num1, num2)\n",
    "\n",
    "print(f\"Addition: {num1} + {num2} = {result_add}\")\n",
    "print(f\"Subtraction: {num1} - {num2} = {result_subtract}\")\n",
    "print(f\"Multiplication: {num1} * {num2} = {result_multiply}\")\n",
    "print(f\"Division: {num1} / {num2} = {result_divide}\")\n",
    "\n"
   ]
  },
  {
   "cell_type": "code",
   "execution_count": null,
   "metadata": {},
   "outputs": [],
   "source": []
  }
 ],
 "metadata": {
  "kernelspec": {
   "display_name": "Python 3.8.10 64-bit",
   "language": "python",
   "name": "python3"
  },
  "language_info": {
   "codemirror_mode": {
    "name": "ipython",
    "version": 3
   },
   "file_extension": ".py",
   "mimetype": "text/x-python",
   "name": "python",
   "nbconvert_exporter": "python",
   "pygments_lexer": "ipython3",
   "version": "3.8.10"
  },
  "orig_nbformat": 4,
  "vscode": {
   "interpreter": {
    "hash": "e7370f93d1d0cde622a1f8e1c04877d8463912d04d973331ad4851f04de6915a"
   }
  }
 },
 "nbformat": 4,
 "nbformat_minor": 2
}
