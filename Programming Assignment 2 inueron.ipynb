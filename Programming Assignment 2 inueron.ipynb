{
 "cells": [
  {
   "cell_type": "markdown",
   "id": "2577429f",
   "metadata": {},
   "source": [
    "# Write a Python program to convert kilometers to miles?"
   ]
  },
  {
   "cell_type": "code",
   "execution_count": 1,
   "id": "9ffb08e2",
   "metadata": {},
   "outputs": [
    {
     "name": "stdout",
     "output_type": "stream",
     "text": [
      "10 km is 6.213699999999999 miles\n"
     ]
    }
   ],
   "source": [
    "a=10 #km\n",
    "b=0.62137*a #miles\n",
    "print(f\"{a} km is {b} miles\")"
   ]
  },
  {
   "cell_type": "markdown",
   "id": "c49f8c83",
   "metadata": {},
   "source": [
    "# Write a Python program to convert Celsius to Fahrenheit?"
   ]
  },
  {
   "cell_type": "code",
   "execution_count": 2,
   "id": "07d637be",
   "metadata": {},
   "outputs": [
    {
     "name": "stdout",
     "output_type": "stream",
     "text": [
      "37celsius = 98.60000000000001F\n"
     ]
    }
   ],
   "source": [
    "a=37 #c\n",
    "b=32+1.8*a #F\n",
    "print(f\"{a}celsius = {b}F\")"
   ]
  },
  {
   "cell_type": "markdown",
   "id": "d7561315",
   "metadata": {},
   "source": [
    "# Write a Python program to display calendar?"
   ]
  },
  {
   "cell_type": "code",
   "execution_count": 3,
   "id": "38804609",
   "metadata": {},
   "outputs": [
    {
     "name": "stdout",
     "output_type": "stream",
     "text": [
      "   February 2100\n",
      "Mo Tu We Th Fr Sa Su\n",
      " 1  2  3  4  5  6  7\n",
      " 8  9 10 11 12 13 14\n",
      "15 16 17 18 19 20 21\n",
      "22 23 24 25 26 27 28\n",
      "\n"
     ]
    }
   ],
   "source": [
    "import calendar\n",
    "print(calendar.month(2100,2))"
   ]
  },
  {
   "cell_type": "markdown",
   "id": "e2163c2e",
   "metadata": {},
   "source": [
    "# Write a Python program to solve quadratic equation?"
   ]
  },
  {
   "cell_type": "code",
   "execution_count": 4,
   "id": "8ab22dea",
   "metadata": {},
   "outputs": [],
   "source": [
    "# quadratic equation is ax^2 + bx + c = 0\n",
    "a=2\n",
    "b=2\n",
    "c=6"
   ]
  },
  {
   "cell_type": "code",
   "execution_count": 5,
   "id": "30e7e1b4",
   "metadata": {},
   "outputs": [
    {
     "name": "stdout",
     "output_type": "stream",
     "text": [
      "Roots are imaginary\n",
      "x=-0.5+1.6583123951777i or -0.5-1.6583123951777i\n"
     ]
    }
   ],
   "source": [
    "import math\n",
    "d=b**2-4*a*c\n",
    "if d==0:\n",
    "    print(\"Roots are real & equal\")\n",
    "    x=-b/(2*a)\n",
    "    print(\"x=\",x)\n",
    "elif d>0:\n",
    "    print(\"Roots are real & different\")\n",
    "    x1=(-b+math.sqrt(d))/(2*a)\n",
    "    x2=(-b-math.sqrt(d))/(2*a)\n",
    "    print(\"x=\",x1,\" or \",x2)\n",
    "else:\n",
    "    print(\"Roots are imaginary\")\n",
    "    r=-b/(2*a)\n",
    "    i=math.sqrt(-d)/(2*a)\n",
    "    print(f\"x={r}+{i}i or {r}-{i}i\")"
   ]
  },
  {
   "cell_type": "markdown",
   "id": "d14551ef",
   "metadata": {},
   "source": [
    "# Write a Python program to swap two variables without temp variable?"
   ]
  },
  {
   "cell_type": "code",
   "execution_count": 6,
   "id": "01218996",
   "metadata": {},
   "outputs": [
    {
     "name": "stdout",
     "output_type": "stream",
     "text": [
      "Before swaping, x=4 and y=7\n",
      "After swaping, x=7 and y=4\n"
     ]
    }
   ],
   "source": [
    "x=4\n",
    "y=7\n",
    "print(f\"Before swaping, x={x} and y={y}\")\n",
    "x=x+y\n",
    "y=x-y\n",
    "x=x-y\n",
    "print(f\"After swaping, x={x} and y={y}\")"
   ]
  },
  {
   "cell_type": "code",
   "execution_count": null,
   "id": "bd7b4033",
   "metadata": {},
   "outputs": [],
   "source": []
  },
  {
   "cell_type": "code",
   "execution_count": null,
   "id": "803abec1",
   "metadata": {},
   "outputs": [],
   "source": []
  },
  {
   "cell_type": "code",
   "execution_count": null,
   "id": "e09af1b7",
   "metadata": {},
   "outputs": [],
   "source": []
  }
 ],
 "metadata": {
  "kernelspec": {
   "display_name": "Python 3 (ipykernel)",
   "language": "python",
   "name": "python3"
  },
  "language_info": {
   "codemirror_mode": {
    "name": "ipython",
    "version": 3
   },
   "file_extension": ".py",
   "mimetype": "text/x-python",
   "name": "python",
   "nbconvert_exporter": "python",
   "pygments_lexer": "ipython3",
   "version": "3.9.12"
  }
 },
 "nbformat": 4,
 "nbformat_minor": 5
}
