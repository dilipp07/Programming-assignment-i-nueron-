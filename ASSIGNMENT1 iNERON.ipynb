{
 "cells": [
  {
   "cell_type": "markdown",
   "id": "67d08bfd",
   "metadata": {},
   "source": [
    "# Write a Python program to print &quot;Hello Python&quot;?"
   ]
  },
  {
   "cell_type": "code",
   "execution_count": 1,
   "id": "b3666ab8",
   "metadata": {},
   "outputs": [
    {
     "name": "stdout",
     "output_type": "stream",
     "text": [
      "Hello Python\n"
     ]
    }
   ],
   "source": [
    "print(\"Hello Python\")"
   ]
  },
  {
   "cell_type": "markdown",
   "id": "04da80a0",
   "metadata": {},
   "source": [
    "# Write a Python program to do arithmetical operations addition and division.?"
   ]
  },
  {
   "cell_type": "code",
   "execution_count": 3,
   "id": "552f8765",
   "metadata": {},
   "outputs": [
    {
     "name": "stdout",
     "output_type": "stream",
     "text": [
      "The sum is 30 , The division is 0.5\n"
     ]
    }
   ],
   "source": [
    "a=10\n",
    "b=20\n",
    "c=a+b\n",
    "div=a/b\n",
    "print(f\"The sum is {c} , The division is {div}\")"
   ]
  },
  {
   "cell_type": "markdown",
   "id": "58421c45",
   "metadata": {},
   "source": [
    "# Write a Python program to find the area of a triangle?"
   ]
  },
  {
   "cell_type": "code",
   "execution_count": 4,
   "id": "709b1e53",
   "metadata": {},
   "outputs": [
    {
     "name": "stdout",
     "output_type": "stream",
     "text": [
      "the area of triangle is 100.0\n"
     ]
    }
   ],
   "source": [
    "b=10\n",
    "h=20\n",
    "area=0.5*b*h\n",
    "print(f\"the area of triangle is {area}\")"
   ]
  },
  {
   "cell_type": "markdown",
   "id": "fa6f143f",
   "metadata": {},
   "source": [
    "# Write a Python program to swap two variables?"
   ]
  },
  {
   "cell_type": "code",
   "execution_count": 7,
   "id": "33b13ff7",
   "metadata": {},
   "outputs": [
    {
     "name": "stdout",
     "output_type": "stream",
     "text": [
      "The value of a after swap is variable 2 , the value of b after swap is variable 1\n"
     ]
    }
   ],
   "source": [
    "a=\"variable 1\"\n",
    "b=\"variable 2\"\n",
    "c=\"\"\n",
    "c=a\n",
    "a=b\n",
    "b=c\n",
    "print(f\"The value of a after swap is {a} , the value of b after swap is {b}\")"
   ]
  },
  {
   "cell_type": "markdown",
   "id": "09b9b2c2",
   "metadata": {},
   "source": [
    "# Write a Python program to generate a random number?"
   ]
  },
  {
   "cell_type": "code",
   "execution_count": 8,
   "id": "33b21021",
   "metadata": {},
   "outputs": [
    {
     "name": "stdout",
     "output_type": "stream",
     "text": [
      "1\n"
     ]
    }
   ],
   "source": [
    "import random\n",
    "print(random.randint(0,9))"
   ]
  },
  {
   "cell_type": "code",
   "execution_count": null,
   "id": "b88c02dc",
   "metadata": {},
   "outputs": [],
   "source": []
  }
 ],
 "metadata": {
  "kernelspec": {
   "display_name": "Python 3 (ipykernel)",
   "language": "python",
   "name": "python3"
  },
  "language_info": {
   "codemirror_mode": {
    "name": "ipython",
    "version": 3
   },
   "file_extension": ".py",
   "mimetype": "text/x-python",
   "name": "python",
   "nbconvert_exporter": "python",
   "pygments_lexer": "ipython3",
   "version": "3.9.12"
  }
 },
 "nbformat": 4,
 "nbformat_minor": 5
}
