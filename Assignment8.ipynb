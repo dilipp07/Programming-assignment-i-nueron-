{
 "cells": [
  {
   "cell_type": "markdown",
   "id": "823845d3",
   "metadata": {},
   "source": [
    "#### 1. Write a Python Program to Add two Matrices ?"
   ]
  },
  {
   "cell_type": "code",
   "execution_count": 1,
   "id": "6dd2fd5c",
   "metadata": {},
   "outputs": [
    {
     "name": "stdout",
     "output_type": "stream",
     "text": [
      "Inputs: [[1, 2, 3], [4, 5, 6], [7, 8, 9]],[[9, 8, 7], [6, 5, 4], [3, 2, 1]]\n",
      "Output: [[10, 10, 10], [10, 10, 10], [10, 10, 10]]\n",
      "Inputs: [[2, 3, 5], [1, 1, 1], [2, 2, 2]],[[4, 3, 5], [1, 2, 3], [3, 2, 1]]\n",
      "Output: [[6, 6, 10], [2, 3, 4], [5, 4, 3]]\n"
     ]
    }
   ],
   "source": [
    "def addMatrices(a,b):\n",
    "    print(f'Inputs: {a},{b}')\n",
    "    if len(a) == len(b):\n",
    "        out_matrix = []\n",
    "        for ele in range(len(a)):\n",
    "            if len(a[ele]) == len(b[ele]):\n",
    "                out_matrix.append([])\n",
    "                for sub_ele in range(len(a[ele])):\n",
    "                    out_matrix[ele].append(a[ele][sub_ele]+b[ele][sub_ele])\n",
    "            else:\n",
    "                print('Both Matrices must contains same no of rows and columns') \n",
    "    else:\n",
    "        print('Both Matrices must contains same no of rows and columns')\n",
    "    print(f'Output: {out_matrix}')\n",
    "\n",
    "addMatrices([[1,2,3],[4,5,6],[7,8,9]],[[9,8,7],[6,5,4],[3,2,1]])\n",
    "addMatrices([[2,3,5],[1,1,1],[2,2,2]],[[4,3,5],[1,2,3],[3,2,1]])"
   ]
  },
  {
   "cell_type": "markdown",
   "id": "9e6c1983",
   "metadata": {},
   "source": [
    "#### 2. Write a Python Program to Multiply two Matrices ?"
   ]
  },
  {
   "cell_type": "code",
   "execution_count": 5,
   "id": "e5c57cb3",
   "metadata": {},
   "outputs": [
    {
     "name": "stdout",
     "output_type": "stream",
     "text": [
      "[[ 30  24  18]\n",
      " [ 84  69  54]\n",
      " [138 114  90]]\n"
     ]
    }
   ],
   "source": [
    "import numpy as np\n",
    "\n",
    "def main():\n",
    "    # Example matrices (you can replace these with your own matrices)\n",
    "    matrix1 = np.array([[1, 2, 3],\n",
    "                        [4, 5, 6],\n",
    "                        [7, 8, 9]])\n",
    "\n",
    "    matrix2 = np.array([[9, 8, 7],\n",
    "                        [6, 5, 4],\n",
    "                        [3, 2, 1]])\n",
    "\n",
    "    try:\n",
    "        result = np.dot(matrix1, matrix2)\n",
    "        print(result)\n",
    "    except ValueError as e:\n",
    "        print(\"Error:\", e)\n",
    "\n",
    "if __name__ == \"__main__\":\n",
    "    main()"
   ]
  },
  {
   "cell_type": "markdown",
   "id": "c2705b7d",
   "metadata": {},
   "source": [
    "#### 3. Write a Python Program to transpose a Matrix ?"
   ]
  },
  {
   "cell_type": "code",
   "execution_count": 3,
   "id": "08afb7ff",
   "metadata": {},
   "outputs": [
    {
     "name": "stdout",
     "output_type": "stream",
     "text": [
      "[[1, 2, 3], [4, 5, 6], [7, 8, 9]] -> [[1, 4, 7], [2, 5, 8], [3, 6, 9]]\n",
      "[[1, 2], [4, 5], [7, 8]] -> [[1, 4, 7], [2, 5, 8]]\n",
      "[[1, 2, 3], [4, 5, 6]] -> [[1, 4], [2, 5], [3, 6]]\n"
     ]
    }
   ],
   "source": [
    "def main():\n",
    "    # Example matrix (you can replace this with your own matrix)\n",
    "    matrix = np.array([[1, 2, 3],\n",
    "                       [4, 5, 6],\n",
    "                       [7, 8, 9]])\n",
    "\n",
    "    transposed_matrix = np.transpose(matrix)  # Or you can use matrix.T\n",
    "\n",
    "    print(\"Original Matrix:\")\n",
    "    print(matrix)\n",
    "    print(\"\\nTransposed Matrix:\")\n",
    "    print(transposed_matrix)\n",
    "\n",
    "if __name__ == \"__main__\":\n",
    "    main()\n"
   ]
  },
  {
   "cell_type": "markdown",
   "id": "5b6207c1",
   "metadata": {},
   "source": [
    "#### 4. Write a Python Program to sort Words in an Alphabatical Order ?"
   ]
  },
  {
   "cell_type": "code",
   "execution_count": 1,
   "id": "d6e5de3d",
   "metadata": {},
   "outputs": [
    {
     "name": "stdout",
     "output_type": "stream",
     "text": [
      "am dilip i\n"
     ]
    }
   ],
   "source": [
    "def sortString():\n",
    "    in_string = \"i am dilip\"\n",
    "    sorted_list = sorted(in_string.split(' '))\n",
    "    print(' '.join(sorted_list))\n",
    "\n",
    "sortString()"
   ]
  },
  {
   "cell_type": "markdown",
   "id": "eb0e084d",
   "metadata": {},
   "source": [
    "#### 5. Write a Python Program to remove Punctuations From a String ?"
   ]
  },
  {
   "cell_type": "code",
   "execution_count": 3,
   "id": "08c0196d",
   "metadata": {},
   "outputs": [
    {
     "name": "stdout",
     "output_type": "stream",
     "text": [
      "Full Stacks DS 20  Ineuron\n"
     ]
    }
   ],
   "source": [
    "def removePunctuatuions():\n",
    "    punctuations = '''!()-[]{};:'\"\\,<>./?@#$%^&*_~'''\n",
    "    in_string = '\"Full Stacks DS 2.0\" @ Ineuron\"'\n",
    "    out_string = ''\n",
    "    for ele in in_string:\n",
    "        if ele not in punctuations:\n",
    "            out_string += ele\n",
    "    print(out_string)\n",
    "    \n",
    "removePunctuatuions()"
   ]
  }
 ],
 "metadata": {
  "kernelspec": {
   "display_name": "Python 3.8.10 64-bit",
   "language": "python",
   "name": "python3"
  },
  "language_info": {
   "codemirror_mode": {
    "name": "ipython",
    "version": 3
   },
   "file_extension": ".py",
   "mimetype": "text/x-python",
   "name": "python",
   "nbconvert_exporter": "python",
   "pygments_lexer": "ipython3",
   "version": "3.8.10"
  },
  "vscode": {
   "interpreter": {
    "hash": "e7370f93d1d0cde622a1f8e1c04877d8463912d04d973331ad4851f04de6915a"
   }
  }
 },
 "nbformat": 4,
 "nbformat_minor": 5
}
